{
 "cells": [
  {
   "cell_type": "markdown",
   "metadata": {},
   "source": [
    "# **MEMORIA EDA CAMBIO CLIMÁTICO**"
   ]
  },
  {
   "cell_type": "markdown",
   "metadata": {},
   "source": [
    "Este análisis pretende demostrar la existencia del cambio climático a través de un examen detallado de las tendencias de temperatura y niveles de CO₂ a lo largo de las últimas décadas. Al estudiar el aumento sostenido de las temperaturas globales y la concentración de CO₂ en la atmósfera, se busca ofrecer una base empírica que respalde la realidad del cambio climático, desafiando así las posturas que niegan su existencia o impacto. Este enfoque basado en datos proporciona una comprensión objetiva de cómo estos indicadores se correlacionan directamente con los efectos del calentamiento global."
   ]
  },
  {
   "cell_type": "markdown",
   "metadata": {},
   "source": [
    "## **NEGACIONISMO EN TORNO AL CAMBIO CLIMÁTICO**"
   ]
  },
  {
   "cell_type": "markdown",
   "metadata": {},
   "source": [
    "![negacionismo](img/negacionismo.png)"
   ]
  },
  {
   "cell_type": "markdown",
   "metadata": {},
   "source": [
    "### **Acuerdo de París**"
   ]
  },
  {
   "cell_type": "markdown",
   "metadata": {},
   "source": [
    "El Acuerdo de París es un tratado internacional adoptado en 2015 durante la Conferencia de las Naciones Unidas sobre el Cambio Climático (COP21), cuyo objetivo principal es limitar el calentamiento global a menos de 2 °C, y preferiblemente a 1.5 °C, por encima de los niveles preindustriales. Para lograrlo, los países firmantes se comprometieron a reducir sus emisiones de gases de efecto invernadero y a revisar y aumentar sus objetivos climáticos cada cinco años. Además, el acuerdo promueve la adaptación a los efectos adversos del cambio climático y la financiación de políticas sostenibles en países en desarrollo. El tratado busca una acción climática global y coordinada, fomentando la cooperación entre países y proporcionando un marco común para enfrentar la crisis climática de manera equitativa y progresiva."
   ]
  },
  {
   "cell_type": "markdown",
   "metadata": {},
   "source": [
    "### **Líderes negacionistas**"
   ]
  },
  {
   "cell_type": "markdown",
   "metadata": {},
   "source": [
    "En el escenario internacional, el negacionismo del cambio climático de ciertos líderes mundiales ha generado desafíos importantes para los esfuerzos globales, especialmente en relación con el cumplimiento de los compromisos del Acuerdo de París. A continuación, se destacan las posturas negacionistas de algunos líderes y su posible impacto en la lucha contra el cambio climático.\n",
    "\n",
    "* **Donald Trump (Estados Unidos)**: Durante su mandato, el expresidente Trump expresó escepticismo sobre el cambio climático, llegando a calificarlo como un \"engaño\" y a cuestionar la ciencia detrás de él. En 2017, Trump anunció la retirada de Estados Unidos del Acuerdo de París, argumentando que era injusto para la economía estadounidense. Aunque Estados Unidos se reincorporó posteriormente bajo la administración de Joe Biden, la retirada temporal minó la unidad global y envió un mensaje que podía ser interpretado como un apoyo a la inacción climática, afectando la credibilidad y el liderazgo climático de Estados Unidos en el escenario internacional.\n",
    "*  **Jair Bolsonaro (Brasil)**: El expresidente de Brasil, Jair Bolsonaro, también mostró una postura escéptica hacia el cambio climático, promoviendo políticas que favorecían la expansión agrícola y la explotación de la Amazonía. Bajo su administración, Brasil experimentó un aumento significativo en la deforestación, lo que afecta directamente la capacidad del país para cumplir con sus compromisos de reducción de emisiones bajo el Acuerdo de París. La falta de acción y las políticas de Bolsonaro comprometieron no solo los objetivos climáticos de Brasil, sino también los de todo el continente, dada la importancia del Amazonas como \"pulmón del planeta.\"\n",
    "* **Vladimir Putin (Rusia)**: Aunque el presidente ruso Vladimir Putin ha reconocido ciertos aspectos del cambio climático, su enfoque ha sido ambiguo, y en ocasiones ha minimizado su importancia. En varias ocasiones, Putin ha sugerido que el cambio climático podría tener efectos beneficiosos para Rusia, como abrir nuevas rutas marítimas en el Ártico o mejorar la producción agrícola en algunas regiones. Esta postura, que resta urgencia a la mitigación del cambio climático, puede afectar los esfuerzos globales, especialmente considerando que Rusia es uno de los principales productores de combustibles fósiles.\n",
    "\n"
   ]
  },
  {
   "cell_type": "markdown",
   "metadata": {},
   "source": [
    "### **Impacto en el Acuerdo de París**"
   ]
  },
  {
   "cell_type": "markdown",
   "metadata": {},
   "source": [
    "Estas posturas negacionistas afectan de varias maneras el cumplimiento y la eficacia del Acuerdo de París:\n",
    "\n",
    "* **Descoordinación Internacional**: La falta de compromiso de grandes emisores como Estados Unidos, Brasil y Rusia crea vacíos en la acción climática global y puede disuadir a otros países de hacer esfuerzos ambiciosos, erosionando la cohesión y la voluntad colectiva.\n",
    "* **Desaceleración de Políticas Climáticas Nacionales**: Estos discursos desmotivan la implementación de políticas nacionales y locales para reducir emisiones o proteger recursos naturales, lo que afecta los compromisos de cada país y dificulta alcanzar las metas globales de limitar el aumento de temperatura a 1.5 °C.\n",
    "\n",
    "En conjunto, el negacionismo de estos líderes no solo obstaculiza la acción climática global, sino que también pone en riesgo los esfuerzos para enfrentar de manera coordinada y efectiva la crisis climática, debilitando uno de los acuerdos más importantes para el futuro del planeta."
   ]
  },
  {
   "cell_type": "markdown",
   "metadata": {},
   "source": [
    "### **Negacionismo en las redes sociales**"
   ]
  },
  {
   "cell_type": "markdown",
   "metadata": {},
   "source": [
    "El aumento de comentarios negacionistas en redes sociales como X tiene efectos profundos en la percepción pública del cambio climático y puede obstaculizar la acción climática. Estos mensajes suelen amplificar la desinformación, generando dudas sobre la realidad del cambio climático y la necesidad de tomar medidas urgentes. Al volverse virales, estos comentarios pueden crear una falsa equivalencia entre el consenso científico y las opiniones negacionistas, llevando a que el público perciba el cambio climático como un tema de debate en lugar de una emergencia basada en evidencia. Además, el negacionismo en redes sociales refuerza el escepticismo, lo que puede traducirse en una menor presión pública hacia los gobiernos y las empresas para que implementen políticas de sostenibilidad. Esto no solo retrasa la adopción de soluciones, sino que también alimenta la polarización en torno a un tema que exige cooperación global, reduciendo la efectividad de acuerdos internacionales como el Acuerdo de París."
   ]
  },
  {
   "cell_type": "markdown",
   "metadata": {},
   "source": [
    "*“Si el 98% de la comunidad científica dice que existe el cambio climático, pero encuentras a cinco que defienden que no, mucha gente piensa que en realidad hay un 50% de posibilidades de que una de las dos posturas sea la correcta. La idea es convertir un hecho en solo una teoría”*, Marta Peirano\n",
    "\n",
    "[Reportaje El País: Apóstoles del negacionismo](https://elpais.com/elpais/2019/09/18/eps/1568820907_023534.html)"
   ]
  },
  {
   "cell_type": "markdown",
   "metadata": {},
   "source": [
    "[NOTEBOOK COMENTARIOS NEGACIONISTAS X](comentarios_x.ipynb)"
   ]
  },
  {
   "cell_type": "markdown",
   "metadata": {},
   "source": [
    "## **PAÍSES CON MAYORES EMISIONES DE GASES DE EFECTO INVERNADERO**"
   ]
  },
  {
   "cell_type": "markdown",
   "metadata": {},
   "source": [
    "<img src=\"img\\efecto_invernadero.png\" width=\"65%\"> "
   ]
  },
  {
   "cell_type": "markdown",
   "metadata": {},
   "source": [
    "Hemos estudiado los países con mayores emisiones de gases de efecto invernadero a través de un dataset que contiene datos de emisiones totales de gases de efecto invernadero de varios países en millones de toneladas de CO₂ equivalente, hemos identificado los países que más contribuyen a las emisiones globales. Este análisis revela que un pequeño grupo de países es responsable de una gran parte de las emisiones globales, y en varios de estos países, líderes con posturas negacionistas frente al cambio climático ocupan posiciones de poder.\n",
    "\n",
    "[Datos Efecto Invernadero](https://data.worldbank.org/indicator/EN.GHG.ALL.MT.CE.AR5?name_desc=false)"
   ]
  },
  {
   "cell_type": "markdown",
   "metadata": {},
   "source": [
    "[NOTEBOOK EFECTO INVERNADERO](efecto_invernadero.ipynb)"
   ]
  },
  {
   "cell_type": "markdown",
   "metadata": {},
   "source": [
    "# **ANÁLISIS DE LAS TEMPERATURAS Y LOS NIVELES DE CO2**"
   ]
  },
  {
   "cell_type": "markdown",
   "metadata": {},
   "source": [
    "<img src=\"img\\tierra.webp\" width=\"30%\"> \n",
    "<img src=\"img\\co2.png\" width=\"25%\">"
   ]
  },
  {
   "cell_type": "markdown",
   "metadata": {},
   "source": [
    "Para este análisis hemos utilizado dos datasets fundamentales: NASA GISS Surface Temperature Analysis (GISTEMP) para el estudio de las temperaturas globales y NOAA Global Monitoring Laboratory para analizar los niveles de CO₂ atmosférico. Ambos conjuntos de datos ofrecen información detallada y estructurada, permitiendo observar cómo las temperaturas y las concentraciones de CO₂ han variado a lo largo del tiempo, lo cual es esencial para comprender el impacto del cambio climático.\n",
    "\n",
    "* **Temperatura global: NASA GISS Surface Temperature Analysis (GISTEMP)**: Este dataset proporciona el índice de temperatura global en la superficie de la Tierra y los océanos, expresado en centésimas de grados Celsius y basado en datos históricos que abarcan de 1880 a 2024. La estructura del dataset está organizada en columnas que reflejan cada mes del año, lo que permite observar las desviaciones de la temperatura mensual global respecto al periodo base (1951-1980). Además, se incluyen columnas con promedios anuales y estacionales, como el promedio de enero a diciembre (J-D), el promedio de diciembre a noviembre del año siguiente (D-N), y promedios de las estaciones del año: invierno, primavera, verano y otoño. Estos datos son recolectados a través de sistemas avanzados como el GHCN-v4 (Global Historical Climatology Network) y el índice SST de ERSST v5 para temperaturas oceánicas, asegurando la eliminación de valores atípicos y el ajuste de la homogeneidad para mantener la consistencia.\n",
    "* **Niveles de CO₂: NOAA Global Monitoring Laboratory**: El segundo dataset, proporcionado por el Laboratorio de Monitoreo Global (GML) de la NOAA, contiene datos de concentraciones de CO₂ atmosférico, organizados en un formato mensual desde 1958 hasta la actualidad. En este DataFrame, cada registro incluye el año, el mes, y una representación decimal del año, lo que facilita el seguimiento continuo. Las columnas principales incluyen la concentración promedio mensual de CO₂ en partes por millón (ppm), junto con su incertidumbre asociada (average_unc), así como la tendencia mensual ajustada para eliminar la variabilidad estacional, indicada en la columna trend y su margen de error (trend_unc). Esta tendencia ajustada es particularmente valiosa para observar el cambio a largo plazo en las concentraciones de CO₂ sin la interferencia de las fluctuaciones estacionales, ofreciendo una visión más precisa de cómo aumentan los niveles de CO₂ en la atmósfera con el tiempo.\n",
    "\n",
    "[Datos Temperaturas](https://data.giss.nasa.gov/gistemp/tabledata_v4/GLB.Ts+dSST.txt)\n",
    "\n",
    "[Datos CO2](https://gml.noaa.gov/webdata/ccgg/trends/co2/co2_mm_gl.txt)"
   ]
  },
  {
   "cell_type": "markdown",
   "metadata": {},
   "source": [
    "Hemos estudiado el periodo entre 1983 y 2023, que abarca un total de 40 años. En este análisis, comenzamos con un estudio anual de las temperaturas y las concentraciones de CO₂, lo que nos permitió observar los cambios año a año. Posteriormente, realizamos un análisis agrupado por décadas, y luego desglosamos los datos tanto por décadas como por estaciones del año.\n",
    "\n",
    "Al observar los datos por décadas, la tendencia de aumento en ambos indicadores se hace mucho más evidente, lo que permite apreciar el crecimiento sostenido en la temperatura global y en los niveles de CO₂ sin la interferencia de las fluctuaciones anuales o estacionales. Esta tendencia a largo plazo respalda aún más la conclusión de que el aumento de CO₂ está estrechamente relacionado con el incremento de la temperatura global.\n",
    "\n",
    "A partir de este análisis, concluimos que las temperaturas globales y las concentraciones de CO₂ están altamente correlacionadas, con un coeficiente de correlación de 0.94. Este valor indica una relación positiva y fuerte entre ambos indicadores, sugiriendo que a medida que aumentan las concentraciones de CO₂ en la atmósfera, también lo hace la temperatura global promedio. Esta correlación sólida refuerza la comprensión científica de que el CO₂, como gas de efecto invernadero, juega un papel clave en el calentamiento global y en el cambio climático."
   ]
  },
  {
   "cell_type": "markdown",
   "metadata": {},
   "source": [
    "### **Fenómenos extremos: El Niño y La Niña**"
   ]
  },
  {
   "cell_type": "markdown",
   "metadata": {},
   "source": [
    "Además, hemos estudiado los fenómenos de El Niño y La Niña para comprender mejor algunas de las fluctuaciones en las gráficas de aumento y disminución de temperaturas. Estos fenómenos climáticos, que forman parte del ciclo El Niño-Oscilación del Sur (ENOS), influyen significativamente en las temperaturas globales, causando aumentos notables durante los años de El Niño y disminuciones en los años de La Niña. Incorporar este análisis nos ha permitido identificar cómo estos eventos naturales pueden afectar temporalmente las tendencias de temperatura y aportar una comprensión más precisa sobre las variaciones en el contexto del cambio climático a largo plazo.\n",
    "\n",
    "Para este análisis, hemos comparado nuestras observaciones con registros históricos de los fenómenos de El Niño y La Niña, lo que nos ha permitido identificar y contextualizar algunas de las fluctuaciones en las tendencias de temperatura. Al cruzar los datos de temperatura con los eventos conocidos de El Niño y La Niña, observamos cómo estos fenómenos han contribuido a aumentos y disminuciones temporales en las temperaturas globales a lo largo del tiempo. Esta comparación con registros históricos añade precisión a nuestro estudio, ayudándonos a distinguir entre variaciones causadas por estos eventos climáticos naturales y la tendencia de calentamiento a largo plazo impulsada por el aumento de gases de efecto invernadero."
   ]
  },
  {
   "cell_type": "markdown",
   "metadata": {},
   "source": [
    "### **Estudio de la media y tendencia de CO2**"
   ]
  },
  {
   "cell_type": "markdown",
   "metadata": {},
   "source": [
    "<img src=\"img\\plantas.jpg\" width=\"30%\"> "
   ]
  },
  {
   "cell_type": "markdown",
   "metadata": {},
   "source": [
    "En nuestro estudio entre las variables average y trend en el dataset de concentraciones de CO₂, hemos analizado cómo varían estas dos medidas a lo largo del año. La variable average representa la concentración promedio mensual de CO₂ en la atmósfera, mientras que trend es una medida ajustada que elimina la variabilidad estacional, proporcionando una tendencia más estable del cambio en CO₂.\n",
    "\n",
    "Obtenemos que las mayores desviaciones entre la concentración promedio de CO₂ (average) y la tendencia ajustada (trend) ocurren en abril. Este comportamiento se debe al ciclo estacional del CO₂, influenciado principalmente por la actividad fotosintética de las plantas. Durante el invierno en el hemisferio norte, la fotosíntesis disminuye y las plantas entran en un periodo de inactividad, lo que limita la absorción de CO₂. Al mismo tiempo, la descomposición y la respiración liberan CO₂, lo que provoca una acumulación en la atmósfera que alcanza su punto máximo al final del invierno. En marzo y abril, aunque las plantas comienzan a absorber CO₂, aún no es suficiente para contrarrestar la acumulación invernal, lo que explica las altas concentraciones en estos meses.\n",
    "\n",
    "En contraste, en agosto y septiembre, las desviaciones entre average y trend son menores, ya que la vegetación ha estado absorbiendo grandes cantidades de CO₂ durante el verano, manteniendo los niveles de CO₂ más bajos en la atmósfera. Si average está por encima de trend, indica que la concentración de CO₂ es más alta que la tendencia, como ocurre en marzo y abril. Por otro lado, cuando average está por debajo de trend, refleja una concentración de CO₂ más baja, como suele ocurrir en agosto y septiembre. Estas variaciones entre average y trend reflejan el ciclo natural de CO₂ debido a los cambios estacionales en la actividad de la vegetación."
   ]
  },
  {
   "cell_type": "markdown",
   "metadata": {},
   "source": [
    "[NOTEBOOK CAMBIO CLIMÁTICO](cambioclimático.ipynb)"
   ]
  },
  {
   "cell_type": "markdown",
   "metadata": {},
   "source": [
    "# **UNA DE LAS CONSECUENCIAS DEL CAMBIO CLIMÁTICO: DESPLAZAMIENTO DE ICEBERGS**"
   ]
  },
  {
   "cell_type": "markdown",
   "metadata": {},
   "source": [
    "<img src=\"img\\iceberg.webp\" width=\"50%\"> "
   ]
  },
  {
   "cell_type": "markdown",
   "metadata": {},
   "source": [
    "Una de las consecuencias visibles del cambio climático es el desplazamiento y desprendimiento de grandes masas de hielo o icebergs. A medida que las temperaturas globales aumentan, especialmente en las regiones polares, el derretimiento de los glaciares y plataformas de hielo se acelera, provocando que fragmentos de hielo se desprendan y se desplacen a través de los océanos. Este fenómeno tiene efectos en los ecosistemas marinos, las rutas de navegación y el nivel del mar.\n",
    "\n",
    "Para analizar este fenómeno, hemos estudiado el desplazamiento de icebergs utilizando un dataset que contiene datos detallados sobre sus posiciones y movimientos a lo largo del tiempo. Este dataset nos ha permitido rastrear las trayectorias de los icebergs en distintas fechas, identificando patrones de movimiento y posibles cambios en sus desplazamientos. A través de este análisis, hemos podido observar cómo el cambio climático contribuye a una mayor inestabilidad en las plataformas de hielo y al desplazamiento de estos gigantes de hielo en los océanos.\n",
    "\n",
    "[Datos Icerbergs](https://www.kaggle.com/datasets/joelhanson/iceberg-locations)"
   ]
  },
  {
   "cell_type": "markdown",
   "metadata": {},
   "source": [
    "[NOTEBOOK DESPLAZAMIENTOS ICEBERGS](icebergs.ipynb)"
   ]
  },
  {
   "cell_type": "markdown",
   "metadata": {},
   "source": [
    "# **CONCLUSIÓN**"
   ]
  },
  {
   "cell_type": "markdown",
   "metadata": {},
   "source": [
    "<img src=\"img\\conclusion.png\" width=\"25%\"> "
   ]
  },
  {
   "cell_type": "markdown",
   "metadata": {},
   "source": [
    "Este análisis evidencia el impacto significativo del cambio climático a través de un estudio detallado de las tendencias de temperatura global y concentraciones de CO₂ en la atmósfera, concluyendo que estos indicadores están altamente correlacionados y refuerzan la realidad del calentamiento global. La fuerte correlación entre el aumento de CO₂ y el incremento en la temperatura global respalda las conclusiones científicas que vinculan las emisiones de gases de efecto invernadero con el cambio climático. Además, se observa que ciertos líderes mundiales con posturas negacionistas, como Donald Trump, Jair Bolsonaro y Vladimir Putin, representan un desafío importante para el cumplimiento de los compromisos internacionales, como el Acuerdo de París. Estas posiciones dificultan la cooperación global y desmotivan la implementación de políticas de reducción de emisiones a nivel nacional.\n",
    "\n",
    "La influencia de estos líderes en países con altas emisiones de gases de efecto invernadero (como Estados Unidos, Brasil y Rusia) crea obstáculos para los esfuerzos globales y debilita el Acuerdo de París, que depende de la colaboración de las principales economías emisoras. En conjunto, el estudio reafirma la necesidad de una acción climática global y coordinada, que contrarreste las posturas negacionistas y fomente el compromiso de todos los países para limitar el aumento de temperatura y mitigar los efectos del cambio climático, incluyendo fenómenos como el desplazamiento de icebergs. ​"
   ]
  }
 ],
 "metadata": {
  "language_info": {
   "name": "python"
  }
 },
 "nbformat": 4,
 "nbformat_minor": 2
}
