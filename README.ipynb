{
 "cells": [
  {
   "cell_type": "markdown",
   "metadata": {},
   "source": [
    "# 🌍📊 **Análisis Exploratorio de Datos: Cambio Climático**"
   ]
  },
  {
   "cell_type": "markdown",
   "metadata": {},
   "source": [
    "Bienvenidos a este proyecto de análisis exploratorio de datos (EDA) sobre el cambio climático. Nuestro objetivo es comprender cómo el calentamiento global se relaciona con el aumento de las temperaturas y las concentraciones de CO₂ en la atmósfera, además de analizar los efectos visibles, como el desplazamiento de icebergs y el impacto de los mensajes negacionistas en redes sociales."
   ]
  },
  {
   "cell_type": "markdown",
   "metadata": {},
   "source": [
    "## 🧭 **Objetivo del Proyecto**"
   ]
  },
  {
   "cell_type": "markdown",
   "metadata": {},
   "source": [
    "El proyecto busca demostrar la existencia del cambio climático y su relación directa con las actividades humanas, especialmente a través de las emisiones de CO₂. Mediante datos históricos y análisis detallado, este proyecto ofrece una base para comprender mejor los patrones climáticos, el efecto de las emisiones y el impacto de la desinformación."
   ]
  },
  {
   "cell_type": "markdown",
   "metadata": {},
   "source": [
    "## 📂 **Estructura del Proyecto**\n",
    "\n",
    "El proyecto se divide en cinco secciones principales:\n",
    "\n",
    "### 🌡 **1. Calentamiento Global**\n",
    "\n",
    "Utilizamos un dataset que recopila datos de emisiones totales de gases de efecto invernadero, expresados en millones de toneladas de CO₂ equivalente. Este dataset nos permite identificar los principales países emisores de gases contaminantes y analizar su papel en el cambio climático global. La información obtenida sirve como base para comprender la contribución de cada país y la urgencia de políticas efectivas de reducción de emisiones.\n",
    "\n",
    "🔗 [Enlace al Dataset del Calentamiento Global](https://data.worldbank.org/indicator/EN.GHG.ALL.MT.CE.AR5?name_desc=false)\n",
    "\n",
    "\n",
    "### 🗣 **2. Tuits Negacionistas sobre el Cambio Climático**\n",
    "\n",
    "Analizamos el aumento de mensajes negacionistas en redes sociales usando datos obtenidos de un artículo periodístico, que cubre el período de 2020 a 2022. Observamos una tendencia al alza en el número de tuits que niegan o minimizan el cambio climático, lo cual podría influir negativamente en la percepción pública y disminuir la presión para implementar políticas climáticas efectivas.\n",
    "\n",
    "\n",
    "### 🌍 **3. Temperatura Global**\n",
    "\n",
    "Usamos el datasets **NASA GISS Surface Temperature Analysis (GISTEMP)** que proporciona el índice de temperatura global en la superficie de la Tierra y océanos (1880-2024), detallando las variaciones por meses y promedios anuales y estacionales.\n",
    "\n",
    "🔗 [Enlace al Dataset de Temperatura Global](https://data.giss.nasa.gov/gistemp/tabledata_v4/GLB.Ts+dSST.txt)\n",
    "\n",
    "### 🌿 **4. Niveles de CO₂ en la Atmósfera**\n",
    "\n",
    "Para analizar la concentración de dióxido de carbono, utilizamos el dataset del **NOAA Global Monitoring Laboratory** que contiene datos de concentraciones de CO₂ atmosférico desde 1958 hasta la fecha, con columnas de concentración promedio mensual y tendencia ajustada para eliminar la variabilidad estacional.\n",
    "\n",
    "🔗 [Enlace al Dataset de Niveles de CO₂](https://gml.noaa.gov/webdata/ccgg/trends/co2/co2_mm_gl.txt)\n",
    "\n",
    "\n",
    "### 🧊 **5. Desplazamiento de Icebergs**\n",
    "\n",
    "Analizamos el desplazamiento de icebergs como una consecuencia directa del cambio climático. Utilizamos un dataset de posiciones y trayectorias de icebergs que permite rastrear sus movimientos a lo largo del tiempo. Este análisis refleja cómo el aumento de temperaturas en las regiones polares desestabiliza las plataformas de hielo y provoca el desprendimiento de grandes masas de hielo.\n",
    "\n",
    "🔗 [Enlace al Dataset Desplazamiento Icebergs](https://www.kaggle.com/datasets/joelhanson/iceberg-locations)\n"
   ]
  },
  {
   "cell_type": "markdown",
   "metadata": {},
   "source": [
    "## 📒 **Notebooks del Proyecto**\n",
    "\n",
    "Este proyecto, como hemos dicho, se divide en cinco secciones, cada una desarrollada en un notebook independiente, salvo el análisis de temperatura global y niveles de CO₂, que se encuentran en el mismo notebook para facilitar la correlación y visualización conjunta de estos datos.\n",
    "\n",
    "1. **Calentamiento Global**: Análisis de las emisiones de gases de efecto invernadero por país, destacando los principales emisores.\n",
    "\n",
    "📓[Enlace al Notebook del Calentamiento Global](efecto_invernadero.ipynb)\n",
    "\n",
    "2. **Tuits Negacionistas sobre el Cambio Climático**: Estudio de la tendencia al alza en la difusión de mensajes negacionistas en redes sociales.\n",
    "\n",
    "📓[Enlace al Notebook comentarios negacionistas en X](comentarios_x.ipynb)\n",
    "\n",
    "3. **Temperatura Global y Niveles de CO₂**: Estos dos análisis se integran en un único notebook, permitiendo examinar la correlación entre la concentración de CO₂ y el aumento de temperaturas.\n",
    "\n",
    "📓[Enlace al Notebook del Cambio Climático](cambioclimático.ipynb)\n",
    "\n",
    "4. **Desplazamiento de Icebergs**: Estudio del movimiento y desprendimiento de icebergs, como consecuencia del cambio climático en las regiones polares.\n",
    "\n",
    "📓[Enlace al Notebook deldeplazamiento de Icebergs](icebergs.ipynb)\n",
    "\n",
    "Cada notebook incluye visualizaciones y análisis específicos, proporcionando una visión completa de cada área del estudio climático."
   ]
  },
  {
   "cell_type": "markdown",
   "metadata": {},
   "source": [
    "## 📊 **Resultados y Conclusiones**\n",
    "\n",
    "* **Calentamiento Global**: Los datos sobre emisiones de gases de efecto invernadero muestran que las mayores contribuciones provienen de un grupo reducido de países, lo que resalta la necesidad de políticas climáticas estrictas en estas naciones para reducir las emisiones globales.\n",
    "\n",
    "* **Impacto de los Tuits Negacionistas**: El análisis de tuits muestra una tendencia creciente en los mensajes que niegan el cambio climático, lo cual podría dificultar la aceptación pública de las políticas climáticas.\n",
    "\n",
    "* **Correlación entre CO₂ y Temperatura**: La correlación fuerte (0.94) entre las concentraciones de CO₂ y las temperaturas globales confirma la relación entre emisiones de gases de efecto invernadero y el calentamiento global. Las mayores desviaciones en abril y menores en agosto reflejan el ciclo estacional del CO₂, influenciado por la actividad fotosintética de las plantas.\n",
    "\n",
    "* **Desplazamiento de Icebergs**: Los datos de desplazamiento de icebergs muestran un incremento en el desprendimiento y movimiento de estas masas de hielo, asociado al aumento de las temperaturas globales, especialmente en los polos."
   ]
  },
  {
   "cell_type": "markdown",
   "metadata": {},
   "source": [
    "## ⚙️ **Requisitos**\n",
    "\n",
    "* **Python 3.x**\n",
    "* **Bibliotecas**: pandas, matplotlib, seaborn, numpy, scipy"
   ]
  },
  {
   "cell_type": "markdown",
   "metadata": {},
   "source": [
    "# 🚀 **Instrucciones**\n",
    "\n",
    "**1. Clona el repositorio**:"
   ]
  },
  {
   "cell_type": "markdown",
   "metadata": {},
   "source": [
    "git clone https://github.com/usuario/repositorio.git\n",
    "\n",
    "cd repositorio"
   ]
  },
  {
   "cell_type": "markdown",
   "metadata": {},
   "source": [
    "**2.  Instala las dependencias**:"
   ]
  },
  {
   "cell_type": "markdown",
   "metadata": {},
   "source": [
    "pip install -r requirements.txt"
   ]
  },
  {
   "cell_type": "markdown",
   "metadata": {},
   "source": [
    "**3. Ejecuta el notebook**: Abre y ejecuta el notebook en Jupyter Notebook o JupyterLab para replicar el análisis."
   ]
  },
  {
   "cell_type": "markdown",
   "metadata": {},
   "source": [
    "# 🔗 **Referencias**\n",
    "\n",
    "📰 [Artículo sobre Negacionismo Climático](https://elpais.com/elpais/2019/09/18/eps/1568820907_023534.html)\n",
    "\n",
    "🔍 [WORLD BANK GROUP | Data | Total greenhouse gas emissions (Mt CO2e)](https://data.worldbank.org/indicator/EN.GHG.ALL.MT.CE.AR5)\n",
    "\n",
    "🌡 [NASA GISS Surface Temperature Analysis (GISTEMP)](https://data.giss.nasa.gov/gistemp/)\n",
    "\n",
    "🌍 [NOAA Global Monitoring Laboratory - CO₂](https://gml.noaa.gov/ccgg/trends/)\n",
    "\n",
    "🧊 [Estudio sobre el desplazamiento de los icebergs](https://www.kaggle.com/datasets/joelhanson/iceberg-locations)\n",
    "\n"
   ]
  }
 ],
 "metadata": {
  "language_info": {
   "name": "python"
  }
 },
 "nbformat": 4,
 "nbformat_minor": 2
}
